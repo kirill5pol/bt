{
 "cells": [
  {
   "cell_type": "code",
   "execution_count": 1,
   "metadata": {},
   "outputs": [
    {
     "name": "stderr",
     "output_type": "stream",
     "text": [
      "/Users/kirillpolzunov/Applications/miniconda3/envs/qube/lib/python3.6/site-packages/tensorflow/python/framework/dtypes.py:523: FutureWarning: Passing (type, 1) or '1type' as a synonym of type is deprecated; in a future version of numpy, it will be understood as (type, (1,)) / '(1,)type'.\n",
      "  _np_qint8 = np.dtype([(\"qint8\", np.int8, 1)])\n",
      "/Users/kirillpolzunov/Applications/miniconda3/envs/qube/lib/python3.6/site-packages/tensorflow/python/framework/dtypes.py:524: FutureWarning: Passing (type, 1) or '1type' as a synonym of type is deprecated; in a future version of numpy, it will be understood as (type, (1,)) / '(1,)type'.\n",
      "  _np_quint8 = np.dtype([(\"quint8\", np.uint8, 1)])\n",
      "/Users/kirillpolzunov/Applications/miniconda3/envs/qube/lib/python3.6/site-packages/tensorflow/python/framework/dtypes.py:525: FutureWarning: Passing (type, 1) or '1type' as a synonym of type is deprecated; in a future version of numpy, it will be understood as (type, (1,)) / '(1,)type'.\n",
      "  _np_qint16 = np.dtype([(\"qint16\", np.int16, 1)])\n",
      "/Users/kirillpolzunov/Applications/miniconda3/envs/qube/lib/python3.6/site-packages/tensorflow/python/framework/dtypes.py:526: FutureWarning: Passing (type, 1) or '1type' as a synonym of type is deprecated; in a future version of numpy, it will be understood as (type, (1,)) / '(1,)type'.\n",
      "  _np_quint16 = np.dtype([(\"quint16\", np.uint16, 1)])\n",
      "/Users/kirillpolzunov/Applications/miniconda3/envs/qube/lib/python3.6/site-packages/tensorflow/python/framework/dtypes.py:527: FutureWarning: Passing (type, 1) or '1type' as a synonym of type is deprecated; in a future version of numpy, it will be understood as (type, (1,)) / '(1,)type'.\n",
      "  _np_qint32 = np.dtype([(\"qint32\", np.int32, 1)])\n",
      "/Users/kirillpolzunov/Applications/miniconda3/envs/qube/lib/python3.6/site-packages/tensorflow/python/framework/dtypes.py:532: FutureWarning: Passing (type, 1) or '1type' as a synonym of type is deprecated; in a future version of numpy, it will be understood as (type, (1,)) / '(1,)type'.\n",
      "  np_resource = np.dtype([(\"resource\", np.ubyte, 1)])\n"
     ]
    }
   ],
   "source": [
    "import numpy as np\n",
    "import seaborn as sns\n",
    "import matplotlib.pyplot as plt\n",
    "plt.rcParams[\"figure.figsize\"] = (18, 5)\n",
    "\n",
    "from plotting import smooth\n",
    "from student_env import StudentEnv  # The student simulator env\n",
    "from agents import RandomAgent, WeakestSkillAgent, MultiArmBanditEpsilonGreedy, MultiArmBanditEpsilonSampleProb\n",
    "\n",
    "from stable_baselines.common.vec_env.vec_normalize import VecNormalize\n",
    "from stable_baselines.common.vec_env.dummy_vec_env import DummyVecEnv\n",
    "from stable_baselines.common.cmd_util import arg_parser\n",
    "from stable_baselines.common.policies import MlpPolicy\n",
    "from stable_baselines.common import set_global_seeds\n",
    "from stable_baselines import bench, logger\n",
    "\n",
    "from stable_baselines.ppo2 import PPO2"
   ]
  },
  {
   "cell_type": "markdown",
   "metadata": {},
   "source": [
    "# Helper functions"
   ]
  },
  {
   "cell_type": "code",
   "execution_count": 47,
   "metadata": {},
   "outputs": [],
   "source": [
    "def run_agent(env, agent, train_eps=1000, test_eps=100, print_episodes=50):\n",
    "    train_rewards = np.zeros((train_eps, env.envs[0].max_steps))\n",
    "    test_rewards = np.zeros((test_eps, env.envs[0].max_steps))\n",
    "    obs = np.zeros((env.num_envs,) + env.observation_space.shape)\n",
    "\n",
    "    for episode in range(train_eps):\n",
    "        obs[:] = env.reset()\n",
    "        action = [0] # Just need a first action to do something\n",
    "        done = False\n",
    "\n",
    "        if episode % print_episodes == 0:\n",
    "            print(f\"Epsiode {episode}\")\n",
    "\n",
    "        while not done:\n",
    "            obs[:], reward, done, info = env.step(action)\n",
    "            train_rewards[episode, env.envs[0].i-1] = reward\n",
    "            action = agent(obs, reward, done, info)\n",
    "\n",
    "    for episode in range(test_eps):\n",
    "        obs[:] = env.reset()\n",
    "        action = [0] # Just need a first action to do something\n",
    "        done = False\n",
    "\n",
    "        if episode % print_episodes == 0:\n",
    "            print(f\"Epsiode {episode}\")\n",
    "\n",
    "        while not done:\n",
    "            obs[:], reward, done, info = env.step(action)\n",
    "            test_rewards[episode,env.envs[0].i-1] = reward\n",
    "            action = agent(obs, reward, done, info)\n",
    "\n",
    "    return agent, train_rewards, test_rewards"
   ]
  },
  {
   "cell_type": "code",
   "execution_count": 3,
   "metadata": {
    "jupyter": {
     "source_hidden": true
    }
   },
   "outputs": [],
   "source": [
    "def plot_agent_run(rewards, title=None, w=500):\n",
    "    # Get avg rewards\n",
    "    avg_rewards = np.sum(rewards, axis=1)\n",
    "    over_avg_reward = np.mean(avg_rewards)\n",
    "    \n",
    "    sns.regplot(np.arange(avg_rewards.shape[0]), avg_rewards, marker=\".\")\n",
    "    if title:\n",
    "        plt.title(title)\n",
    "    plt.xlabel(\"Episodes\")\n",
    "    plt.ylabel(\"Reward\")\n",
    "    plt.show()\n",
    "    \n",
    "    \n",
    "#     # Smooth data\n",
    "#     avg_rewards = smooth(avg_rewards, window_len=w) # window size w\n",
    "    \n",
    "#     # Plot\n",
    "#     plt.plot(avg_rewards)\n",
    "#     if title:\n",
    "#         plt.title(title)\n",
    "#     plt.xlabel(\"Episodes\")\n",
    "#     plt.ylabel(f\"Reward (smooth = {w})\")\n",
    "#     plt.show()\n",
    "    \n",
    "    "
   ]
  },
  {
   "cell_type": "code",
   "execution_count": 4,
   "metadata": {
    "jupyter": {
     "source_hidden": true
    }
   },
   "outputs": [],
   "source": [
    "def plot_episode_reward(rewards, title=None, episode=0):    \n",
    "    sns.regplot(np.arange(rewards.shape[0]), rewards, marker=\".\", logistic=True)\n",
    "    if title:\n",
    "        plt.title(title)\n",
    "    plt.xlabel(\"Step\")\n",
    "    plt.ylabel(\"Reward\")\n",
    "    plt.show()\n"
   ]
  },
  {
   "cell_type": "code",
   "execution_count": 5,
   "metadata": {},
   "outputs": [],
   "source": [
    "# Use the same environment spec (ie same students) for all agents to make comparing more fair\n",
    "def make_env():\n",
    "    env_out = StudentEnv()\n",
    "    env_out = bench.Monitor(env_out, logger.get_dir(), allow_early_resets=True)\n",
    "    return env_out\n",
    "env = DummyVecEnv([make_env])\n",
    "\n",
    "train_eps = 100\n",
    "test_eps = 100"
   ]
  },
  {
   "cell_type": "markdown",
   "metadata": {},
   "source": [
    "# Random Agent"
   ]
  },
  {
   "cell_type": "code",
   "execution_count": 6,
   "metadata": {},
   "outputs": [
    {
     "name": "stdout",
     "output_type": "stream",
     "text": [
      "Epsiode 0\n"
     ]
    }
   ],
   "source": [
    "env.reset()\n",
    "rand_agent = RandomAgent(env.envs[0].n_concepts)\n",
    "rand_agent, rand_train_rewards, rand_test_rewards = run_agent(env, rand_agent, train_eps=0, test_eps=test_eps)"
   ]
  },
  {
   "cell_type": "code",
   "execution_count": 7,
   "metadata": {},
   "outputs": [
    {
     "data": {
      "image/png": "[encoded data removed]",
      "text/plain": [
       "<Figure size 432x288 with 1 Axes>"
      ]
     },
     "metadata": {
      "needs_background": "light"
     },
     "output_type": "display_data"
    },
    {
     "name": "stdout",
     "output_type": "stream",
     "text": [
      "[-5.2017801  -7.36320617 -8.36096319 -7.24201132 -7.12943233]\n",
      "[-5.2017801  -7.36320617 -8.36096319 -7.24201132 -7.12943233]\n"
     ]
    },
    {
     "data": {
      "image/png": "[encoded data removed]",
      "text/plain": [
       "<Figure size 432x288 with 1 Axes>"
      ]
     },
     "metadata": {
      "needs_background": "light"
     },
     "output_type": "display_data"
    }
   ],
   "source": [
    "plot_agent_run(rand_test_rewards, \"Random Agent Test\")\n",
    "print(env.envs[0].students_init[0].skills)\n",
    "print(env.envs[0].students[0].skills)\n",
    "plot_episode_reward(rand_test_rewards[0], \"Random Agent Test - Single Episode\")"
   ]
  },
  {
   "cell_type": "code",
   "execution_count": null,
   "metadata": {},
   "outputs": [],
   "source": []
  },
  {
   "cell_type": "markdown",
   "metadata": {},
   "source": [
    "# Weakest Skill Agent"
   ]
  },
  {
   "cell_type": "code",
   "execution_count": 8,
   "metadata": {},
   "outputs": [
    {
     "name": "stdout",
     "output_type": "stream",
     "text": [
      "Epsiode 0\n"
     ]
    }
   ],
   "source": [
    "env.reset()\n",
    "ws_agent = WeakestSkillAgent(env.envs[0].n_concepts)\n",
    "ws_agent, ws_train_rewards, ws_test_rewards = run_agent(env, ws_agent, train_eps=0, test_eps=test_eps)"
   ]
  },
  {
   "cell_type": "code",
   "execution_count": 9,
   "metadata": {},
   "outputs": [
    {
     "data": {
      "image/png": "[encoded data removed]",
      "text/plain": [
       "<Figure size 432x288 with 1 Axes>"
      ]
     },
     "metadata": {
      "needs_background": "light"
     },
     "output_type": "display_data"
    },
    {
     "name": "stdout",
     "output_type": "stream",
     "text": [
      "[-5.2017801  -7.36320617 -8.36096319 -7.24201132 -7.12943233]\n",
      "[-5.2017801  -7.36320617 -8.36096319 -7.24201132 -7.12943233]\n"
     ]
    },
    {
     "data": {
      "image/png": "[encoded data removed]",
      "text/plain": [
       "<Figure size 432x288 with 1 Axes>"
      ]
     },
     "metadata": {
      "needs_background": "light"
     },
     "output_type": "display_data"
    }
   ],
   "source": [
    "plot_agent_run(ws_test_rewards, \"Weakest Skill Agent Test\")\n",
    "print(env.envs[0].students_init[0].skills)\n",
    "print(env.envs[0].students[0].skills)\n",
    "\n",
    "\n",
    "plot_episode_reward(ws_test_rewards[0], \"Random Agent Test - Single Episode\")"
   ]
  },
  {
   "cell_type": "code",
   "execution_count": null,
   "metadata": {},
   "outputs": [],
   "source": []
  },
  {
   "cell_type": "markdown",
   "metadata": {},
   "source": [
    "# Multi Arm Bandit Epsilon Greedy Agent"
   ]
  },
  {
   "cell_type": "code",
   "execution_count": 10,
   "metadata": {},
   "outputs": [
    {
     "name": "stdout",
     "output_type": "stream",
     "text": [
      "Epsiode 0\n",
      "Epsiode 0\n"
     ]
    }
   ],
   "source": [
    "env.reset()\n",
    "eg_agent = MultiArmBanditEpsilonGreedy(env.envs[0].n_concepts)\n",
    "eg_agent, eg_train_rewards, eg_test_rewards = run_agent(env, eg_agent, train_eps=train_eps, test_eps=test_eps)"
   ]
  },
  {
   "cell_type": "code",
   "execution_count": 11,
   "metadata": {},
   "outputs": [
    {
     "data": {
      "image/png": "[encoded data removed]",
      "text/plain": [
       "<Figure size 432x288 with 1 Axes>"
      ]
     },
     "metadata": {
      "needs_background": "light"
     },
     "output_type": "display_data"
    },
    {
     "data": {
      "image/png": "[encoded data removed]",
      "text/plain": [
       "<Figure size 432x288 with 1 Axes>"
      ]
     },
     "metadata": {
      "needs_background": "light"
     },
     "output_type": "display_data"
    },
    {
     "name": "stdout",
     "output_type": "stream",
     "text": [
      "[-5.2017801  -7.36320617 -8.36096319 -7.24201132 -7.12943233]\n",
      "[-5.2017801  -7.36320617 -8.36096319 -7.24201132 -7.12943233]\n"
     ]
    }
   ],
   "source": [
    "plot_agent_run(eg_train_rewards, \"MAB Epsilon Greedy Agent Train\")\n",
    "plot_agent_run(eg_test_rewards, \"MAB Epsilon Greedy Agent Test\")\n",
    "print(env.envs[0].students_init[0].skills)\n",
    "print(env.envs[0].students[0].skills)"
   ]
  },
  {
   "cell_type": "markdown",
   "metadata": {},
   "source": [
    "# Multi Arm Bandit Sample Q function Agent"
   ]
  },
  {
   "cell_type": "code",
   "execution_count": 12,
   "metadata": {
    "jupyter": {
     "source_hidden": true
    }
   },
   "outputs": [],
   "source": [
    "# env.reset()\n",
    "# sp_agent = MultiArmBanditEpsilonSampleProb(env.envs[0].n_concepts)\n",
    "# sp_agent, sp_train_rewards, sp_test_rewards = run_agent(env, sp_agent, train_eps=train_eps, test_eps=test_eps)"
   ]
  },
  {
   "cell_type": "code",
   "execution_count": 13,
   "metadata": {
    "jupyter": {
     "source_hidden": true
    }
   },
   "outputs": [],
   "source": [
    "# plot_agent_run(sp_train_rewards, \"MAB Sample Q function Agent Train\")\n",
    "# plot_agent_run(sp_test_rewards, \"MAB Sample Q function Agent Test\")\n",
    "# print(env.envs[0].students_init[0].skills)\n",
    "# print(env.envs[0].students[0].skills)"
   ]
  },
  {
   "cell_type": "markdown",
   "metadata": {},
   "source": [
    "# Additional info"
   ]
  },
  {
   "cell_type": "code",
   "execution_count": 14,
   "metadata": {},
   "outputs": [
    {
     "data": {
      "text/plain": [
       "[Question(concepts=(0,), difficulty=11.119684935376437),\n",
       " Question(concepts=(0,), difficulty=9.348439770194952),\n",
       " Question(concepts=(0,), difficulty=11.19037390532373),\n",
       " Question(concepts=(0,), difficulty=9.574630959264534),\n",
       " Question(concepts=(0,), difficulty=9.316551315776325),\n",
       " Question(concepts=(0,), difficulty=10.971569568762273),\n",
       " Question(concepts=(0,), difficulty=9.57449639660282),\n",
       " Question(concepts=(0,), difficulty=8.649146727812754),\n",
       " Question(concepts=(0,), difficulty=10.141722359614802),\n",
       " Question(concepts=(1,), difficulty=2.6467052418805768),\n",
       " Question(concepts=(1,), difficulty=3.707215341665331),\n",
       " Question(concepts=(1,), difficulty=2.563347926279077),\n",
       " Question(concepts=(1,), difficulty=1.446365756973853),\n",
       " Question(concepts=(1,), difficulty=2.534498537296761),\n",
       " Question(concepts=(1,), difficulty=2.8617498255354183),\n",
       " Question(concepts=(1,), difficulty=3.45211334534758),\n",
       " Question(concepts=(1,), difficulty=4.073286167750313),\n",
       " Question(concepts=(2,), difficulty=-1.196753931054267),\n",
       " Question(concepts=(2,), difficulty=-0.615163096555968),\n",
       " Question(concepts=(2,), difficulty=-1.129128608289335),\n",
       " Question(concepts=(2,), difficulty=0.565160320399573),\n",
       " Question(concepts=(2,), difficulty=1.9380286100565782),\n",
       " Question(concepts=(2,), difficulty=1.3081982063487791),\n",
       " Question(concepts=(2,), difficulty=-0.49561496991636395),\n",
       " Question(concepts=(2,), difficulty=1.9958870632383796),\n",
       " Question(concepts=(2,), difficulty=1.7823114061762941),\n",
       " Question(concepts=(2,), difficulty=-1.171554390908011),\n",
       " Question(concepts=(3,), difficulty=-4.04145591891187),\n",
       " Question(concepts=(3,), difficulty=-2.8926050662542337),\n",
       " Question(concepts=(3,), difficulty=-3.281550487441061),\n",
       " Question(concepts=(3,), difficulty=-3.308536502329369),\n",
       " Question(concepts=(3,), difficulty=-3.083824119700874),\n",
       " Question(concepts=(3,), difficulty=-2.628409843451965),\n",
       " Question(concepts=(3,), difficulty=-3.751962461878948),\n",
       " Question(concepts=(3,), difficulty=-4.623057893981844),\n",
       " Question(concepts=(4,), difficulty=19.8816487498366),\n",
       " Question(concepts=(4,), difficulty=18.800427464953835),\n",
       " Question(concepts=(4,), difficulty=18.012930371444487),\n",
       " Question(concepts=(4,), difficulty=19.298427547504485),\n",
       " Question(concepts=(4,), difficulty=22.045099404454856)]"
      ]
     },
     "execution_count": 14,
     "metadata": {},
     "output_type": "execute_result"
    }
   ],
   "source": [
    "sorted([e for e in env.envs[0].questions[:40]], key=lambda x: x.concepts)"
   ]
  },
  {
   "cell_type": "code",
   "execution_count": 15,
   "metadata": {},
   "outputs": [
    {
     "data": {
      "text/plain": [
       "array([[0., 0., 0., 1.],\n",
       "       [0., 0., 1., 0.],\n",
       "       [0., 1., 0., 0.],\n",
       "       [1., 0., 0., 1.],\n",
       "       [0., 0., 0., 1.]])"
      ]
     },
     "execution_count": 15,
     "metadata": {},
     "output_type": "execute_result"
    }
   ],
   "source": [
    "# Columns are learning styles\n",
    "# Rows are concepts\n",
    "eg_agent.q.reshape(eg_agent.n_concepts, eg_agent.n_learning_styles)"
   ]
  },
  {
   "cell_type": "code",
   "execution_count": 17,
   "metadata": {},
   "outputs": [
    {
     "data": {
      "text/plain": [
       "(6793.63, 4601.16, 4607.17)"
      ]
     },
     "execution_count": 17,
     "metadata": {},
     "output_type": "execute_result"
    }
   ],
   "source": [
    "np.sum(ws_test_rewards)/100, np.sum(rand_test_rewards)/100, np.sum(eg_test_rewards)/100"
   ]
  },
  {
   "cell_type": "code",
   "execution_count": null,
   "metadata": {},
   "outputs": [],
   "source": []
  },
  {
   "cell_type": "code",
   "execution_count": null,
   "metadata": {},
   "outputs": [],
   "source": [
    "# [(env.questions[i % env.envs[0].n_questions], r1, r2) for i, (r1, r2) in enumerate(zip(rand_test_rewards[1], rand_test_rewards[-1]))]"
   ]
  },
  {
   "cell_type": "code",
   "execution_count": null,
   "metadata": {},
   "outputs": [],
   "source": [
    "# [(env.questions[i % env.envs[0].n_questions], r1, r2) for i, (r1, r2) in enumerate(zip(ws_test_rewards[1], ws_test_rewards[-1]))]"
   ]
  },
  {
   "cell_type": "code",
   "execution_count": null,
   "metadata": {},
   "outputs": [],
   "source": []
  },
  {
   "cell_type": "code",
   "execution_count": null,
   "metadata": {},
   "outputs": [],
   "source": []
  },
  {
   "cell_type": "code",
   "execution_count": 59,
   "metadata": {},
   "outputs": [],
   "source": [
    "policy = MlpPolicy\n",
    "ppo_model = PPO2(policy=policy, env=env)\n",
    "ppo_model.load_parameters(\"/Users/kirillpolzunov/code/research/bt/logs/1e7/seed-601/model.zip\")\n",
    "\n",
    "ppo_agent = lambda obs, reward, done, info: ppo_model.step(obs)[0]"
   ]
  },
  {
   "cell_type": "code",
   "execution_count": 63,
   "metadata": {
    "collapsed": true,
    "jupyter": {
     "outputs_hidden": true
    }
   },
   "outputs": [
    {
     "name": "stdout",
     "output_type": "stream",
     "text": [
      "Epsiode 0\n",
      "Epsiode 1\n",
      "Epsiode 2\n",
      "Epsiode 3\n",
      "Epsiode 4\n",
      "Epsiode 5\n",
      "Epsiode 6\n",
      "Epsiode 7\n",
      "Epsiode 8\n",
      "Epsiode 9\n",
      "Epsiode 10\n",
      "Epsiode 11\n",
      "Epsiode 12\n",
      "Epsiode 13\n",
      "Epsiode 14\n",
      "Epsiode 15\n",
      "Epsiode 16\n",
      "Epsiode 17\n",
      "Epsiode 18\n",
      "Epsiode 19\n",
      "Epsiode 20\n",
      "Epsiode 21\n",
      "Epsiode 22\n",
      "Epsiode 23\n",
      "Epsiode 24\n",
      "Epsiode 25\n",
      "Epsiode 26\n",
      "Epsiode 27\n",
      "Epsiode 28\n",
      "Epsiode 29\n",
      "Epsiode 30\n",
      "Epsiode 31\n",
      "Epsiode 32\n",
      "Epsiode 33\n",
      "Epsiode 34\n",
      "Epsiode 35\n",
      "Epsiode 36\n",
      "Epsiode 37\n",
      "Epsiode 38\n",
      "Epsiode 39\n",
      "Epsiode 40\n",
      "Epsiode 41\n",
      "Epsiode 42\n",
      "Epsiode 43\n",
      "Epsiode 44\n",
      "Epsiode 45\n",
      "Epsiode 46\n",
      "Epsiode 47\n",
      "Epsiode 48\n",
      "Epsiode 49\n",
      "Epsiode 50\n",
      "Epsiode 51\n",
      "Epsiode 52\n",
      "Epsiode 53\n",
      "Epsiode 54\n",
      "Epsiode 55\n",
      "Epsiode 56\n",
      "Epsiode 57\n",
      "Epsiode 58\n",
      "Epsiode 59\n",
      "Epsiode 60\n",
      "Epsiode 61\n",
      "Epsiode 62\n",
      "Epsiode 63\n",
      "Epsiode 64\n",
      "Epsiode 65\n",
      "Epsiode 66\n",
      "Epsiode 67\n",
      "Epsiode 68\n",
      "Epsiode 69\n",
      "Epsiode 70\n",
      "Epsiode 71\n",
      "Epsiode 72\n",
      "Epsiode 73\n",
      "Epsiode 74\n",
      "Epsiode 75\n",
      "Epsiode 76\n",
      "Epsiode 77\n",
      "Epsiode 78\n",
      "Epsiode 79\n",
      "Epsiode 80\n",
      "Epsiode 81\n",
      "Epsiode 82\n",
      "Epsiode 83\n",
      "Epsiode 84\n",
      "Epsiode 85\n",
      "Epsiode 86\n",
      "Epsiode 87\n",
      "Epsiode 88\n",
      "Epsiode 89\n",
      "Epsiode 90\n",
      "Epsiode 91\n",
      "Epsiode 92\n",
      "Epsiode 93\n",
      "Epsiode 94\n",
      "Epsiode 95\n",
      "Epsiode 96\n",
      "Epsiode 97\n",
      "Epsiode 98\n",
      "Epsiode 99\n"
     ]
    }
   ],
   "source": [
    "env.reset()\n",
    "ppo_agent, ppo_train_rewards, ppo_test_rewards = run_agent(env, ppo_agent, train_eps=0, test_eps=test_eps, print_episodes=1)"
   ]
  },
  {
   "cell_type": "code",
   "execution_count": 64,
   "metadata": {},
   "outputs": [
    {
     "data": {
      "image/png": "[encoded data removed]",
      "text/plain": [
       "<Figure size 432x288 with 1 Axes>"
      ]
     },
     "metadata": {
      "needs_background": "light"
     },
     "output_type": "display_data"
    },
    {
     "name": "stdout",
     "output_type": "stream",
     "text": [
      "[-5.2017801  -7.36320617 -8.36096319 -7.24201132 -7.12943233]\n",
      "[-5.2017801  -7.36320617 -8.36096319 -7.24201132 -7.12943233]\n"
     ]
    },
    {
     "data": {
      "image/png": "[encoded data removed]",
      "text/plain": [
       "<Figure size 432x288 with 1 Axes>"
      ]
     },
     "metadata": {
      "needs_background": "light"
     },
     "output_type": "display_data"
    }
   ],
   "source": [
    "plot_agent_run(ppo_test_rewards, \"PPO Agent Test\")\n",
    "print(env.envs[0].students_init[0].skills)\n",
    "print(env.envs[0].students[0].skills)\n",
    "\n",
    "plot_episode_reward(ppo_test_rewards[0], \"PPO Agent Test - Single Episode\")"
   ]
  },
  {
   "cell_type": "code",
   "execution_count": 79,
   "metadata": {},
   "outputs": [
    {
     "data": {
      "text/plain": [
       "[array([12]),\n",
       " array([8]),\n",
       " array([12]),\n",
       " array([12]),\n",
       " array([8]),\n",
       " array([12]),\n",
       " array([8]),\n",
       " array([8]),\n",
       " array([8]),\n",
       " array([8]),\n",
       " array([12]),\n",
       " array([8]),\n",
       " array([12]),\n",
       " array([12]),\n",
       " array([12]),\n",
       " array([12]),\n",
       " array([8]),\n",
       " array([8]),\n",
       " array([8]),\n",
       " array([8]),\n",
       " array([12]),\n",
       " array([4]),\n",
       " array([8]),\n",
       " array([12]),\n",
       " array([12]),\n",
       " array([8]),\n",
       " array([12]),\n",
       " array([12]),\n",
       " array([4]),\n",
       " array([12]),\n",
       " array([12]),\n",
       " array([8]),\n",
       " array([12]),\n",
       " array([8]),\n",
       " array([8]),\n",
       " array([12]),\n",
       " array([8]),\n",
       " array([8]),\n",
       " array([12]),\n",
       " array([8]),\n",
       " array([12]),\n",
       " array([8]),\n",
       " array([8]),\n",
       " array([8]),\n",
       " array([8]),\n",
       " array([4]),\n",
       " array([8]),\n",
       " array([12]),\n",
       " array([12]),\n",
       " array([8]),\n",
       " array([8]),\n",
       " array([6]),\n",
       " array([12]),\n",
       " array([12]),\n",
       " array([12]),\n",
       " array([8]),\n",
       " array([12]),\n",
       " array([12]),\n",
       " array([8]),\n",
       " array([8]),\n",
       " array([8]),\n",
       " array([12]),\n",
       " array([8]),\n",
       " array([12]),\n",
       " array([12]),\n",
       " array([12]),\n",
       " array([12]),\n",
       " array([12]),\n",
       " array([8]),\n",
       " array([8]),\n",
       " array([4]),\n",
       " array([12]),\n",
       " array([11]),\n",
       " array([12]),\n",
       " array([8]),\n",
       " array([12]),\n",
       " array([8]),\n",
       " array([8]),\n",
       " array([8]),\n",
       " array([8]),\n",
       " array([8]),\n",
       " array([6]),\n",
       " array([12]),\n",
       " array([4]),\n",
       " array([12]),\n",
       " array([12]),\n",
       " array([8]),\n",
       " array([4]),\n",
       " array([12]),\n",
       " array([12]),\n",
       " array([12]),\n",
       " array([8]),\n",
       " array([8]),\n",
       " array([8]),\n",
       " array([12]),\n",
       " array([8]),\n",
       " array([12]),\n",
       " array([12]),\n",
       " array([8]),\n",
       " array([12])]"
      ]
     },
     "execution_count": 79,
     "metadata": {},
     "output_type": "execute_result"
    }
   ],
   "source": [
    "[ppo_agent([[0,x]], 0,0,0) for x in range(100)]"
   ]
  },
  {
   "cell_type": "code",
   "execution_count": null,
   "metadata": {},
   "outputs": [],
   "source": []
  }
 ],
 "metadata": {
  "kernelspec": {
   "display_name": "qube",
   "language": "python",
   "name": "qube"
  },
  "language_info": {
   "codemirror_mode": {
    "name": "ipython",
    "version": 3
   },
   "file_extension": ".py",
   "mimetype": "text/x-python",
   "name": "python",
   "nbconvert_exporter": "python",
   "pygments_lexer": "ipython3",
   "version": "3.6.0"
  }
 },
 "nbformat": 4,
 "nbformat_minor": 4
}
